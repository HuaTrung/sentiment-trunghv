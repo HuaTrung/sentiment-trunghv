{
 "cells": [
  {
   "cell_type": "code",
   "execution_count": null,
   "metadata": {},
   "outputs": [],
   "source": [
    "import pandas as pd\n",
    "import numpy as np\n",
    "import re\n",
    "import string\n",
    "from data_helper import * "
   ]
  },
  {
   "cell_type": "code",
   "execution_count": null,
   "metadata": {},
   "outputs": [],
   "source": [
    "x_train,y_train,x_test,y_test=load_data_and_labels(\"./data/train.csv\")"
   ]
  },
  {
   "cell_type": "code",
   "execution_count": null,
   "metadata": {},
   "outputs": [],
   "source": [
    "import tensorflow as tf\n",
    "print(tf.__version__)"
   ]
  },
  {
   "cell_type": "code",
   "execution_count": null,
   "metadata": {},
   "outputs": [],
   "source": [
    "import tensorflow as tf\n",
    "import numpy as np\n",
    "import os\n",
    "import time\n",
    "import datetime\n",
    "import data_helper\n",
    "from text_cnn import TextCNN\n",
    "# from tensorflow.python.compiler import tensorrt as trt\n",
    "import csv\n",
    "from keras.models import Sequential\n",
    "from keras import layers\n",
    "from keras import regularizers\n",
    "from keras.layers import Dense, Input, GlobalMaxPooling1D\n",
    "from keras.layers import Conv1D, MaxPooling1D, Embedding\n",
    "from keras.models import Model\n",
    "from keras.layers import Input, Dense, Embedding, Conv2D, MaxPooling2D, Dropout,concatenate\n",
    "from keras.layers.core import Reshape, Flatten\n",
    "from keras.callbacks import EarlyStopping\n",
    "from keras.optimizers import Adam\n",
    "from keras.models import Model\n",
    "from keras import regularizers\n",
    "from keras.utils import to_categorical"
   ]
  },
  {
   "cell_type": "code",
   "execution_count": null,
   "metadata": {
    "scrolled": false
   },
   "outputs": [],
   "source": [
    "from gensim.models import KeyedVectors\n",
    "from gensim.models import Word2Vec\n",
    "from distutils.version import LooseVersion, StrictVersion\n",
    "import gensim\n",
    "\n",
    "model =  './data/baomoi.window2.vn.model.bin'\n",
    "\n",
    "if os.path.isfile(model):\n",
    "    print(\"Loading word2vec model ...\")\n",
    "if LooseVersion(gensim.__version__) >= LooseVersion(\"1.0.1\"):\n",
    "    word2vec_model = KeyedVectors.load_word2vec_format(model, binary=True)\n",
    "else:\n",
    "    print(\"wrong\")\n",
    "    word2vec_model = Word2Vec.load_word2vec_format(model, binary=True)"
   ]
  },
  {
   "cell_type": "code",
   "execution_count": null,
   "metadata": {},
   "outputs": [],
   "source": [
    "class Relevance:\n",
    "    def __init__(self, word2vec):\n",
    "        self.w2v_model = word2vec\n",
    "\n",
    "    def vectorize(self, doc: str) -> np.ndarray:\n",
    "        doc = doc.lower()\n",
    "        words = [w for w in doc.split(\" \")]\n",
    "        word_vecs = []\n",
    "        for word in words:\n",
    "            try:\n",
    "                vec = self.w2v_model[word]\n",
    "                word_vecs.append(vec)\n",
    "            except KeyError:\n",
    "                pass\n",
    "        vector = np.mean(word_vecs, axis=0)\n",
    "        return vector\n",
    "\n",
    "    def _cosine_sim(self, vecA, vecB):\n",
    "        \"\"\"Find the cosine similarity distance between two vectors.\"\"\"\n",
    "        relevance = np.dot(vecA, vecB) / (np.linalg.norm(vecA) * np.linalg.norm(vecB))\n",
    "        if np.isnan(np.sum(relevance)):\n",
    "            return 0\n",
    "        return relevance\n",
    "\n",
    "    def calculate_similarity(self, source_doc, target_docs=None):\n",
    "        if not target_docs:\n",
    "            return []\n",
    "\n",
    "        if isinstance(target_docs, str):\n",
    "            target_docs = [target_docs]\n",
    "\n",
    "        source_vec = self.vectorize(source_doc)\n",
    "        print(source_vec)\n",
    "        results = []\n",
    "        for doc in target_docs:\n",
    "            print(doc)\n",
    "            target_vec = self.vectorize(doc)\n",
    "            sim_score = self._cosine_sim(source_vec, target_vec)\n",
    "            results.append({\"score\": sim_score, \"doc\": doc})\n",
    "        return results"
   ]
  },
  {
   "cell_type": "code",
   "execution_count": null,
   "metadata": {},
   "outputs": [],
   "source": [
    "def clean_str(target):\n",
    "    \"\"\"\n",
    "    Tokenization/string cleaning for all datasets.\n",
    "    \"\"\"\n",
    "    target = re.sub(r\"\\'s\", \" \\'s\", target.lower())\n",
    "    target = re.sub(r\"\\'ve\", \" \\'ve\", target)\n",
    "    target = re.sub(r\"n\\'t\", \" n\\'t\", target)\n",
    "    target = re.sub(r\"\\'re\", \" \\'re\", target)\n",
    "    target = re.sub(r\"\\'d\", \" \\'d\", target)\n",
    "    target = re.sub(r\"\\'ll\", \" \\'ll\", target)\n",
    "    target = re.sub(r\",\", \" , \", target)\n",
    "    target = re.sub(r\"!\", \" ! \", target)\n",
    "    target = re.sub(r\"\\(\", \" \\( \", target)\n",
    "    target = re.sub(r\"\\)\", \" \\) \", target)\n",
    "    target = re.sub(r\"\\?\", \" \\? \", target)\n",
    "    target = re.sub(r\"—\", \" \", target)\n",
    "    target = re.sub(r\"\\s{2,}\", \" \", target)\n",
    "    target = re.sub(r\"\\s{2,}\", \" \", target)\n",
    "    target = re.sub(r\"xem\", \" \", target)\n",
    "    target = re.sub(r\"thêm\", \" \", target)\n",
    "    target = re.sub(r\"watch\", \" \", target)\n",
    "    target = re.sub(r\"more\", \" \", target)\n",
    "    target= re.sub(\"^\\d+\\s|\\s\\d+\\s|\\s\\d+$\", \" \", target)\n",
    "    target = re.sub(r'[^\\w]', ' ', target)\n",
    "    return target.translate(str.maketrans('', '', string.punctuation)).strip()"
   ]
  },
  {
   "cell_type": "code",
   "execution_count": null,
   "metadata": {},
   "outputs": [],
   "source": [
    "ds = Relevance(word2vec_model)"
   ]
  },
  {
   "cell_type": "code",
   "execution_count": null,
   "metadata": {},
   "outputs": [],
   "source": [
    "post"
   ]
  },
  {
   "cell_type": "code",
   "execution_count": null,
   "metadata": {},
   "outputs": [],
   "source": [
    "ds.calculate_similarity(post,data[2])"
   ]
  },
  {
   "cell_type": "code",
   "execution_count": 68,
   "metadata": {},
   "outputs": [
    {
     "name": "stdout",
     "output_type": "stream",
     "text": [
      "[{'score': 0.40205836, 'doc': 'Mua cái này đc cc gì vậy ae ?'}]\n",
      "[{'score': 0.36237624, 'doc': 'pr mục dữ ha ai chẳng có 2 con mắt'}]\n",
      "[{'score': 0.4259047, 'doc': 'Giảm độ khó neeko đi ad ơi =(((( nâng cấp thế này lâu vl =(('}]\n",
      "[{'score': 0.53901136, 'doc': 'Cũng thích thần hỏa lắm mà hổng có tiền ._.'}]\n",
      "[{'score': 0.46181348, 'doc': 'Tui mua 2 bộ sao vào game nó hiện lên bộ cơ bản vậy mọi người'}]\n",
      "[{'score': 0.22009137, 'doc': 'Thế cho tiền mua đi :))'}]\n",
      "[{'score': 0.35390085, 'doc': 'Ai chưa có mua điểm danh'}]\n",
      "[{'score': 0.3756716, 'doc': 'Mua trọn hết thần hỏa các tướng'}]\n",
      "[{'score': 0.42413175, 'doc': '🔥 Chi tiết về Thần Hỏa: http://bit.ly/ThanHoa\\n🔥 Câu hỏi thường gặp: http://bit.ly/ThanHoaFAQ\\n🔥 Tra cứu Thần Hoả: https://thanhoa.lienminh.garena.vn/tra-cuu/'}]\n",
      "[{'score': 0.16912325, 'doc': 'Mua gói sẽ lời hơn =))'}]\n",
      "[{'score': 0.45565122, 'doc': 'Phải chi mình mua được trong lúc chọn tướng trước khi vô trận'}]\n",
      "[{'score': 0.21600328, 'doc': 'K ai mua đâu :)'}]\n",
      "[{'score': 0.7535879, 'doc': 'nếu mình chỉ mua bộ khởi đầu và cày các mốc thì mình có được nâng cấp biểu cảm thông thạo không vậy??'}]\n",
      "[{'score': 0.37641507, 'doc': 'Bỏ tiền ra để thuê người đếm xem mình đã ăn được bao nhiêu bát cơm, uống bao nhiêu cốc nước...thật ba chấm ( trích XTV )'}]\n",
      "[{'score': 0.5000255, 'doc': 'Ad cho minh hỏi. Phiên ban mới nhất mình cap nhạt ve máy ròi. Cài xong sao vào tran choi ko đc. Man hình cứ đòi kết nối lại là sao'}]\n",
      "[{'score': 0.5072489, 'doc': 'Mua thần hoả có tác dụng vậy các bác , em tối cổ lắm hay mua dùng để khoe'}]\n",
      "[{'score': 0.5361084, 'doc': 'Có cách nào không tốn rp không :v chứ cách mua thì biết dồi đó'}]\n",
      "[{'score': 0.32651845, 'doc': 'Tính mua nhưng em tui đổi mẹ mk laptop :))'}]\n",
      "[{'score': 0.18654868, 'doc': 'để tiền mua khẩu trang đi'}]\n",
      "[{'score': 0.44611132, 'doc': 'mọi người cho mình hỏi ngọc nhánh áp đảo đang bị lỗi phải k mình k dùng được ngọc ở nhánh này'}]\n",
      "[{'score': 0.19389537, 'doc': 'Minh Tân'}]\n",
      "[{'score': 0.3297643, 'doc': 'V là sao ad'}]\n",
      "[{'score': 0.30589497, 'doc': 'Nhảm nhí và tốn rp'}]\n",
      "[{'score': 0.3640852, 'doc': '1 tướng 2k5 thl mà hơn 100 tướng có hơn 14k :>'}]\n",
      "[{'score': 0.4965937, 'doc': 'Ae cho hỏi lúc nạp thẻ bthg chỉ có mã nạp sao giờ có thêm cái số thẻ garena là gì nhỉ?'}]\n",
      "[{'score': 0.23917978, 'doc': 'đắt như quỷ'}]\n",
      "[{'score': 0.19685557, 'doc': 'Thần cái địt mẹ m trả hộ cái khung cái'}]\n",
      "[{'score': 0.42178652, 'doc': 'Cho m hỏi mua cái này tác dụng j k.tốn tinh hoa'}]\n",
      "[]\n",
      "[{'score': 0.47693452, 'doc': 'ad nên bán combo thần hỏa theo vị trí sẽ có nhiều người mua hơn đó chứ bán combo full tướng thế này thì giá hơi chát quá'}]\n",
      "[{'score': 0.35975686, 'doc': 'Làm về lux đi ad'}]\n",
      "[{'score': 0.45082927, 'doc': 'Cái đầu tiên phải là \"tao đang trong alpha\"'}]\n",
      "[{'score': 0.5556274, 'doc': 'Thần hỏa chỉ để khoe vậy thôi chứ có tăng sức mạnh gì trong game ko các bro'}]\n",
      "[{'score': 0.41991407, 'doc': 'Cái này có ảnh hưởng tới chỉ số trong trận rank k ae'}]\n",
      "[{'score': 0.33229122, 'doc': '._. Sao con này mấy năm rồi ko bán đa sắc mùa đông vậy'}]\n",
      "[]\n",
      "[{'score': 0.6871941, 'doc': 'Mn cho mình hỏi là mình mua thần hoả rp trc xong mua thần hoả tinh hoa lam là đc bộ 1 và bộ khởi đầu thì có 2 bộ thì nó hiện bộ nào vậy'}]\n",
      "[{'score': 0.33249238, 'doc': 'Ảnh tuyệt kỹ alpha sai kìa'}]\n",
      "[{'score': 0.47646546, 'doc': 'AD cho em hỏi\\nLàm sao để nó hiện Thần Hỏa Bộ 1 ở hàng chờ ạ.'}]\n",
      "[{'score': 0.4236541, 'doc': 'Có pyke k ad'}]\n",
      "[{'score': 0.5020625, 'doc': 'Cái này ở chỗ đéo nào mà lục mãi đéo ra để làm lại 🙂'}]\n",
      "[{'score': 0.42413175, 'doc': '🔥 Chi tiết về Thần Hỏa: http://bit.ly/ThanHoa\\n🔥 Câu hỏi thường gặp: http://bit.ly/ThanHoaFAQ\\n🔥 Tra cứu Thần Hoả: https://thanhoa.lienminh.garena.vn/tra-cuu/'}]\n",
      "[{'score': 0.28212884, 'doc': 'Q rồi chém chém, nghe giống mùi lướt rồi chọc chọc 😂 😂'}]\n",
      "[{'score': 0.09054673, 'doc': 'nhà nghèo hic'}]\n",
      "[{'score': 0.2524428, 'doc': 'Làm xayah đi ad'}]\n",
      "[{'score': 0.124778055, 'doc': 'Làm ys đê'}]\n",
      "[{'score': 0.46993497, 'doc': 'mấy năm trước xem được thành tựu mà giờ phải mua mới dc :)))'}]\n",
      "[{'score': 0.32502896, 'doc': 'Nguyễn Cao Đẳng Pig bộ sưu tập, chọn tướng'}]\n",
      "[{'score': 0.37328386, 'doc': 'Nguyễn Na Cục cưng sẽ có nhé!'}]\n",
      "[{'score': 0.49041897, 'doc': 'Nguyễn Văn Lợi Sẽ có nha!'}]\n",
      "[{'score': 0.21825248, 'doc': 'Minh Nhí oh vậy hả cảm ơn quê nhé 🙂'}]\n",
      "[{'score': 0.21198379, 'doc': 'Mở rồi điểm danh đê ae ơiiii :)))'}]\n",
      "[{'score': 0.18804319, 'doc': 'Nguyễn Cao Đẳng Pig auke đồng chí'}]\n",
      "[{'score': 0.36540383, 'doc': 'Làm về Jax đi'}]\n",
      "[{'score': 0.08444257, 'doc': 'Ngon đấy\\nMai mua'}]\n",
      "[{'score': 0.5553552, 'doc': 'cái này có tác dụng gì aer'}]\n",
      "[{'score': 0.31919226, 'doc': 'Trong khi đó t vẫn kẹt lại khúc \"I was in alpha'}]\n",
      "[{'score': 0.120019265, 'doc': 'Fizz đi ad'}]\n",
      "[{'score': 0.2769512, 'doc': 'Nguyễn Cao Đẳng Pig đây bro ơi'}]\n",
      "[{'score': 0.22743843, 'doc': 'Ảnh tuyệt kĩ hơi toang nhỉ'}]\n",
      "[{'score': 0.3385441, 'doc': 'Liên Minh Huyền Thoại ok cảm liên minh ht nhé 🙂'}]\n",
      "[{'score': 0.50978625, 'doc': 'Quoc Anhh Bạn tick vào ông sao sáng bên phải tên Thần Hoả để chọn nha!'}]\n",
      "[{'score': 0.4692143, 'doc': 'Cowsep thích điều này và tôi cũng vậy.'}]\n",
      "[{'score': 0.5427937, 'doc': 'cho em hỏi ngu cái tác dụng của cái này là gì vậy'}]\n",
      "[{'score': 0.5375227, 'doc': 'Hai Nguyen tuỳ chỉnh được nhé'}]\n",
      "[{'score': 0.6039709, 'doc': 'Hai Nguyen bộ nào có chỉ số cao hơn thì nó hiện bộ đó thôi bạn'}]\n",
      "[{'score': 0.4678115, 'doc': 'T tưởng đắt làm 1 củ vào nào ngờ có 500k'}]\n",
      "[{'score': 0.22250094, 'doc': 'Trung Nguyễn thank bạn'}]\n",
      "[{'score': 0.3321689, 'doc': 'Mới sắp thôi'}]\n",
      "[{'score': 0.29944536, 'doc': 'Làm lại ảnh chiêu Q à'}]\n",
      "[{'score': 0.45595592, 'doc': 'cái này để làm con mẹ gì nhỉ???'}]\n",
      "[{'score': 0.45413503, 'doc': 'team dùng bug thiền và reset đòn đánh bằng thiền ko thích điều này :)))'}]\n",
      "[{'score': 0.15687622, 'doc': 'lũ chó djt garena này'}]\n",
      "[{'score': 0.43149978, 'doc': 'Ai cho mih xin acc ngọc rồng online vs, ai cho mih xin cảm ơn rất nhiều ạ, ai k cho đừng chửi mih ạ, mih bị mất njk'}]\n",
      "[{'score': 0.2585375, 'doc': 'Yi 1tr3 tt mua ko ta'}]\n",
      "[{'score': 0.55844253, 'doc': 'Game là để giải trí tuần đi làm 6 ngày có mỗi ngày chủ nhật thư giản tý mà lại thần với hỏa'}]\n",
      "[{'score': 0.3845702, 'doc': 'Bật R định lao vào chém team bạn và thấy tk Fidd bên kia'}]\n",
      "[{'score': 0.12234794, 'doc': 'đây đây... 😁😁'}]\n",
      "[{'score': 0.42590135, 'doc': 'Ko có tiền ad'}]\n",
      "[{'score': 0.26719046, 'doc': 'Ad làm về fiora đi , tốc độ phá 4 điểm yếu , đỡ chiêu bằng w'}]\n",
      "[{'score': 0.33662647, 'doc': 'Nguyễn Thành Thái đấy nhé Bư còm :3'}]\n",
      "[{'score': 0.20145948, 'doc': 'Nguyễn Long Việt Long cbi 1 dan choi xuat hien'}]\n",
      "[{'score': 0.3532365, 'doc': 'Sượt qua? Nên dịch thành \"Trượt tồi, lêu lêu!\" Đảm bảo team kia đồng loạt đi mua máy mới... :v'}]\n",
      "[{'score': 0.44042593, 'doc': 'Nguyễn Minh Đạt mày cộng cho a mấy con tướng hay chơi đi e hôm nào a test thể lực 🙂'}]\n",
      "[{'score': 0.47491366, 'doc': 'Sao AI của game nó biết là dùng Q né skill ta'}]\n",
      "[{'score': 0.30903324, 'doc': 'Con lạy mấy bố tránh xa con đó ra giùm con'}]\n",
      "[{'score': 0.45055568, 'doc': 'Tao mà thấy yasuo là tao cầm bọ cào vào camp chết luôn chứ cày :))→_→'}]\n",
      "[{'score': 0.42413175, 'doc': '🔥 Chi tiết về Thần Hỏa: http://bit.ly/ThanHoa\\n🔥 Câu hỏi thường gặp: http://bit.ly/ThanHoaFAQ\\n🔥 Tra cứu Thần Hoả: https://thanhoa.lienminh.garena.vn/tra-cuu/'}]\n",
      "[{'score': 0.6228381, 'doc': 'Liên Minh Huyền Thoại cho e hỏi ví dụ h mình mua full bộ rồi lúc ra tướng mới có phải mua nữa ko hay là có luôn ạ'}]\n",
      "[{'score': 0.45743617, 'doc': ':)) đã tắt cmn thần hoả đi, nhìn chả ra gì còn cứ hiện lên rối mắt vl'}]\n",
      "[{'score': 0.48172066, 'doc': 'Mua cái này có đáng k nhể'}]\n",
      "[{'score': 0.5227518, 'doc': 'Phải có Thần Hoả “I was in Alpha” số lần chết trong Alpha mới hay :v'}]\n",
      "[{'score': 0.33375838, 'doc': 'rồi mục Clash đâu ạ'}]\n",
      "[{'score': 0.19873618, 'doc': 'Thresh đi ad ơi :>'}]\n",
      "[{'score': 0.33456948, 'doc': 'Liên Minh Huyền Thoại ơn ạ'}]\n",
      "[{'score': 0.55800045, 'doc': 'Nguyễn Xuân Kiên sẽ có luôn các tướng mới sau này nhé 😉 bảo hành và cập nhật trọn đời'}]\n",
      "[{'score': 0.18882833, 'doc': 'Hoàng Hải'}]\n",
      "[{'score': 0.43982422, 'doc': 'Thần hoả của lux khó quá mấy má ơi, toàn mũ phù thuỷ mà nó kêu chặn st bằng W nè 🤦\\u200d♀️'}]\n",
      "[{'score': 0.29664302, 'doc': 'đánh máy có tính k z :))'}]\n",
      "[{'score': 0.38191056, 'doc': 'Tối cổ quá chả hiểu mn nói gì luôn @@ hoả thần gì ấy'}]\n"
     ]
    }
   ],
   "source": [
    "for i in data:\n",
    "    print(ds.calculate_similarity(post,i))"
   ]
  },
  {
   "cell_type": "code",
   "execution_count": 66,
   "metadata": {
    "scrolled": true
   },
   "outputs": [
    {
     "data": {
      "text/plain": [
       "[{'score': 0.40205836, 'doc': 'Mua cái này đc cc gì vậy ae ?'}]"
      ]
     },
     "execution_count": 66,
     "metadata": {},
     "output_type": "execute_result"
    }
   ],
   "source": [
    "sim_scores"
   ]
  },
  {
   "cell_type": "code",
   "execution_count": 59,
   "metadata": {},
   "outputs": [],
   "source": [
    "from pyvi import ViTokenizer\n"
   ]
  },
  {
   "cell_type": "code",
   "execution_count": 60,
   "metadata": {},
   "outputs": [],
   "source": [
    "data=pd.read_csv(\"d_comment.csv\")[\"content (S)\"].values\n",
    "post=pd.read_csv(\"d_post.csv\")[\"content (S)\"].values[0]"
   ]
  },
  {
   "cell_type": "code",
   "execution_count": 61,
   "metadata": {},
   "outputs": [
    {
     "data": {
      "text/plain": [
       "['thấy',\n",
       " 'nhiều',\n",
       " 'anh_em',\n",
       " 'quan_tâm',\n",
       " 'việc',\n",
       " 'thông_thạo',\n",
       " 'nâng_cấp',\n",
       " 'vạch',\n",
       " 'vạch',\n",
       " 'với',\n",
       " 'thần',\n",
       " 'hoả',\n",
       " 'nên',\n",
       " 'admin',\n",
       " 'giải_đáp_đây',\n",
       " 'ctrl',\n",
       " 'có',\n",
       " 'thông_thạo',\n",
       " 'là',\n",
       " 'nâng_cấp',\n",
       " 'được',\n",
       " 'mở',\n",
       " 'khoá',\n",
       " 'bộ',\n",
       " 'thần',\n",
       " 'hoả',\n",
       " 'thì',\n",
       " 'được',\n",
       " 'vạch',\n",
       " 'hiện',\n",
       " 'mới',\n",
       " 'có',\n",
       " 'bộ',\n",
       " 'nên',\n",
       " 'được',\n",
       " 'tối_đa',\n",
       " 'vạch',\n",
       " 'xem']"
      ]
     },
     "execution_count": 61,
     "metadata": {},
     "output_type": "execute_result"
    }
   ],
   "source": [
    "ViTokenizer.tokenize(clean_str(post)).split(' ')"
   ]
  },
  {
   "cell_type": "code",
   "execution_count": 5,
   "metadata": {
    "scrolled": true
   },
   "outputs": [],
   "source": [
    "my_vector=np.array((word2vec_model[\"có\"]+word2vec_model[\"đẹp\"]))"
   ]
  },
  {
   "cell_type": "code",
   "execution_count": 8,
   "metadata": {},
   "outputs": [
    {
     "data": {
      "text/plain": [
       "(300,)"
      ]
     },
     "execution_count": 8,
     "metadata": {},
     "output_type": "execute_result"
    }
   ],
   "source": [
    "word2vec_model[\"có\"].shape"
   ]
  },
  {
   "cell_type": "code",
   "execution_count": null,
   "metadata": {},
   "outputs": [],
   "source": [
    "word2vec_model.relative_cosine_similarity"
   ]
  },
  {
   "cell_type": "code",
   "execution_count": 47,
   "metadata": {},
   "outputs": [
    {
     "data": {
      "text/plain": [
       "[('không', 0.6991002559661865),\n",
       " ('đẹp', 0.6972807049751282),\n",
       " ('chẳng', 0.6566832661628723),\n",
       " ('ko', 0.5434634685516357),\n",
       " ('đoan_trang', 0.5099766850471497),\n",
       " ('đẹp_đẽ', 0.49741852283477783),\n",
       " ('kiêu_kì', 0.488324910402298),\n",
       " ('kênh_kiệu', 0.48808908462524414),\n",
       " ('chả', 0.48420581221580505),\n",
       " ('kiêu_kỳ', 0.4794056713581085)]"
      ]
     },
     "execution_count": 47,
     "metadata": {},
     "output_type": "execute_result"
    }
   ],
   "source": [
    "word2vec_model.similar_by_vector(my_vector)"
   ]
  },
  {
   "cell_type": "code",
   "execution_count": 31,
   "metadata": {
    "scrolled": true
   },
   "outputs": [
    {
     "data": {
      "text/plain": [
       "[('tiêu_cực', 0.4931569993495941),\n",
       " ('xấu_tính', 0.44311946630477905),\n",
       " ('xấu_xa', 0.43325909972190857),\n",
       " ('bất_lợi', 0.42398881912231445),\n",
       " ('méo_mó', 0.4196334481239319),\n",
       " ('tồi_tệ', 0.4194181263446808),\n",
       " ('tốt', 0.402926504611969),\n",
       " ('yếu', 0.4019845128059387),\n",
       " ('nguy_hại', 0.39621004462242126),\n",
       " ('xấu_xí', 0.3851279616355896)]"
      ]
     },
     "execution_count": 31,
     "metadata": {},
     "output_type": "execute_result"
    }
   ],
   "source": [
    "word2vec_model.similar_by_word(\"xấu\")"
   ]
  },
  {
   "cell_type": "code",
   "execution_count": 45,
   "metadata": {},
   "outputs": [
    {
     "data": {
      "text/plain": [
       "[('toàn_cầu_khiến', 0.3115185797214508),\n",
       " ('bao_gồm', 0.2992875277996063),\n",
       " ('dfi', 0.28283464908599854),\n",
       " ('lương_thực_tại', 0.27744320034980774),\n",
       " ('trung_tâm_bão', 0.27666351199150085),\n",
       " ('gồm', 0.27442577481269836),\n",
       " ('csf', 0.2708356976509094),\n",
       " ('krasukha', 0.2690920829772949),\n",
       " ('tập_đoàn', 0.26735156774520874),\n",
       " ('jamshedpur', 0.26627618074417114)]"
      ]
     },
     "execution_count": 45,
     "metadata": {},
     "output_type": "execute_result"
    }
   ],
   "source": [
    "word2vec_model.most_similar(negative=['không', 'vui'])"
   ]
  },
  {
   "cell_type": "code",
   "execution_count": 59,
   "metadata": {},
   "outputs": [
    {
     "data": {
      "text/plain": [
       "[('gái', 0.6967887878417969)]"
      ]
     },
     "execution_count": 59,
     "metadata": {},
     "output_type": "execute_result"
    }
   ],
   "source": [
    "word2vec_model.most_similar(positive=['trai', 'vợ'], negative=['chồng'],topn=1)"
   ]
  },
  {
   "cell_type": "code",
   "execution_count": null,
   "metadata": {},
   "outputs": [],
   "source": [
    "word2vec_model"
   ]
  },
  {
   "cell_type": "code",
   "execution_count": 5,
   "metadata": {},
   "outputs": [],
   "source": [
    "from CocCocTokenizer import PyTokenizer\n",
    "T = PyTokenizer(load_nontone_data=True)"
   ]
  },
  {
   "cell_type": "code",
   "execution_count": 6,
   "metadata": {
    "scrolled": true
   },
   "outputs": [],
   "source": [
    "matrix_vec_train=[]\n",
    "for i in x_train:\n",
    "    matrix_vec_train.append(makeFeatureVec(T.word_tokenize(i, tokenize_option=0),word2vec_model,100).reshape(100*300))\n",
    "matrix_vec_train=np.array(matrix_vec_train)"
   ]
  },
  {
   "cell_type": "code",
   "execution_count": 7,
   "metadata": {},
   "outputs": [],
   "source": [
    "matrix_vec_test=[]\n",
    "for i in x_test:\n",
    "    matrix_vec_test.append(makeFeatureVec(T.word_tokenize(i, tokenize_option=0),word2vec_model,300).reshape(100*300))\n",
    "matrix_vec_test=np.array(matrix_vec_train)"
   ]
  },
  {
   "cell_type": "code",
   "execution_count": 8,
   "metadata": {},
   "outputs": [],
   "source": [
    "y_train = to_categorical(y_train)\n",
    "y_test = to_categorical(y_test)"
   ]
  },
  {
   "cell_type": "code",
   "execution_count": 9,
   "metadata": {},
   "outputs": [],
   "source": [
    "maxlen = max(len(x) for x in matrix_vec_train) # longest text in train set"
   ]
  },
  {
   "cell_type": "code",
   "execution_count": 10,
   "metadata": {},
   "outputs": [],
   "source": [
    "sequence_length = matrix_vec_train.shape[1]\n",
    "filter_sizes = [3,4,5]\n",
    "num_filters = 100\n",
    "drop = 0.5\n",
    "EMBEDDING_DIM=300\n",
    "inputs = Input(shape=(sequence_length,))\n",
    "embedding_layer = Embedding(len(word2vec_model.vocab),\n",
    "                           EMBEDDING_DIM,\n",
    "                           weights=[word2vec_model.vectors])\n",
    "embedding = embedding_layer(inputs)\n",
    "reshape = Reshape((sequence_length,EMBEDDING_DIM,1))(embedding)\n",
    "\n",
    "conv_0 = Conv2D(num_filters, (filter_sizes[0], EMBEDDING_DIM),activation='relu',kernel_regularizer=regularizers.l2(0.01))(reshape)\n",
    "conv_1 = Conv2D(num_filters, (filter_sizes[1], EMBEDDING_DIM),activation='relu',kernel_regularizer=regularizers.l2(0.01))(reshape)\n",
    "conv_2 = Conv2D(num_filters, (filter_sizes[2], EMBEDDING_DIM),activation='relu',kernel_regularizer=regularizers.l2(0.01))(reshape)\n",
    "\n",
    "maxpool_0 = MaxPooling2D((sequence_length - filter_sizes[0] + 1, 1), strides=(1,1))(conv_0)\n",
    "maxpool_1 = MaxPooling2D((sequence_length - filter_sizes[1] + 1, 1), strides=(1,1))(conv_1)\n",
    "maxpool_2 = MaxPooling2D((sequence_length - filter_sizes[2] + 1, 1), strides=(1,1))(conv_2)\n",
    "\n",
    "merged_tensor = concatenate([maxpool_0, maxpool_1, maxpool_2], axis=1)\n",
    "flatten = Flatten()(merged_tensor)\n",
    "reshape = Reshape((3*num_filters,))(flatten)\n",
    "dropout = Dropout(drop)(flatten)\n",
    "output = Dense(units=2, activation='softmax',kernel_regularizer=regularizers.l2(0.01))(dropout)\n",
    "model = Model(inputs, output)\n"
   ]
  },
  {
   "cell_type": "code",
   "execution_count": 11,
   "metadata": {
    "scrolled": false
   },
   "outputs": [
    {
     "name": "stdout",
     "output_type": "stream",
     "text": [
      "Model: \"model_1\"\n",
      "__________________________________________________________________________________________________\n",
      "Layer (type)                    Output Shape         Param #     Connected to                     \n",
      "==================================================================================================\n",
      "input_1 (InputLayer)            (None, 30000)        0                                            \n",
      "__________________________________________________________________________________________________\n",
      "embedding_1 (Embedding)         (None, 30000, 300)   131716800   input_1[0][0]                    \n",
      "__________________________________________________________________________________________________\n",
      "reshape_1 (Reshape)             (None, 30000, 300, 1 0           embedding_1[0][0]                \n",
      "__________________________________________________________________________________________________\n",
      "conv2d_1 (Conv2D)               (None, 29998, 1, 100 90100       reshape_1[0][0]                  \n",
      "__________________________________________________________________________________________________\n",
      "conv2d_2 (Conv2D)               (None, 29997, 1, 100 120100      reshape_1[0][0]                  \n",
      "__________________________________________________________________________________________________\n",
      "conv2d_3 (Conv2D)               (None, 29996, 1, 100 150100      reshape_1[0][0]                  \n",
      "__________________________________________________________________________________________________\n",
      "max_pooling2d_1 (MaxPooling2D)  (None, 1, 1, 100)    0           conv2d_1[0][0]                   \n",
      "__________________________________________________________________________________________________\n",
      "max_pooling2d_2 (MaxPooling2D)  (None, 1, 1, 100)    0           conv2d_2[0][0]                   \n",
      "__________________________________________________________________________________________________\n",
      "max_pooling2d_3 (MaxPooling2D)  (None, 1, 1, 100)    0           conv2d_3[0][0]                   \n",
      "__________________________________________________________________________________________________\n",
      "concatenate_1 (Concatenate)     (None, 3, 1, 100)    0           max_pooling2d_1[0][0]            \n",
      "                                                                 max_pooling2d_2[0][0]            \n",
      "                                                                 max_pooling2d_3[0][0]            \n",
      "__________________________________________________________________________________________________\n",
      "flatten_1 (Flatten)             (None, 300)          0           concatenate_1[0][0]              \n",
      "__________________________________________________________________________________________________\n",
      "dropout_1 (Dropout)             (None, 300)          0           flatten_1[0][0]                  \n",
      "__________________________________________________________________________________________________\n",
      "dense_1 (Dense)                 (None, 2)            602         dropout_1[0][0]                  \n",
      "==================================================================================================\n",
      "Total params: 132,077,702\n",
      "Trainable params: 132,077,702\n",
      "Non-trainable params: 0\n",
      "__________________________________________________________________________________________________\n",
      "None\n"
     ]
    }
   ],
   "source": [
    "print(model.summary())"
   ]
  },
  {
   "cell_type": "code",
   "execution_count": 12,
   "metadata": {
    "scrolled": false
   },
   "outputs": [
    {
     "name": "stdout",
     "output_type": "stream",
     "text": [
      "Shape of X train and X validation tensor: (1000, 30000) (1000, 30000)\n",
      "Shape of label train and validation tensor: (1000, 2) (500, 2)\n"
     ]
    }
   ],
   "source": [
    "print('Shape of X train and X validation tensor:', matrix_vec_train.shape,matrix_vec_test.shape)\n",
    "print('Shape of label train and validation tensor:', y_train.shape,y_test.shape)"
   ]
  },
  {
   "cell_type": "code",
   "execution_count": 17,
   "metadata": {
    "scrolled": true
   },
   "outputs": [
    {
     "data": {
      "text/plain": [
       "array([[[ 0.24589975,  0.77774334, -1.2496276 , ...,  0.        ,\n",
       "          0.        ,  0.        ]],\n",
       "\n",
       "       [[ 0.7005746 ,  1.3664861 , -1.6598337 , ...,  0.        ,\n",
       "          0.        ,  0.        ]],\n",
       "\n",
       "       [[-0.01931669,  1.5146191 , -0.95038223, ...,  0.        ,\n",
       "          0.        ,  0.        ]],\n",
       "\n",
       "       ...,\n",
       "\n",
       "       [[ 1.5678059 ,  0.9919252 , -1.4614412 , ...,  0.        ,\n",
       "          0.        ,  0.        ]],\n",
       "\n",
       "       [[-0.01931669,  1.5146191 , -0.95038223, ...,  0.        ,\n",
       "          0.        ,  0.        ]],\n",
       "\n",
       "       [[-0.79908675,  1.0495341 , -0.29474068, ...,  0.        ,\n",
       "          0.        ,  0.        ]]], dtype=float32)"
      ]
     },
     "execution_count": 17,
     "metadata": {},
     "output_type": "execute_result"
    }
   ],
   "source": [
    "np.expand_dims(matrix_vec_train, 1)"
   ]
  },
  {
   "cell_type": "code",
   "execution_count": 28,
   "metadata": {},
   "outputs": [
    {
     "data": {
      "text/plain": [
       "1000"
      ]
     },
     "execution_count": 28,
     "metadata": {},
     "output_type": "execute_result"
    }
   ],
   "source": [
    "len(matrix_vec_train)"
   ]
  },
  {
   "cell_type": "code",
   "execution_count": 30,
   "metadata": {
    "scrolled": true
   },
   "outputs": [
    {
     "name": "stderr",
     "output_type": "stream",
     "text": [
      "/opt/anaconda3/envs/coccoc_word_tokenize/lib/python3.6/site-packages/tensorflow_core/python/framework/indexed_slices.py:424: UserWarning: Converting sparse IndexedSlices to a dense Tensor of unknown shape. This may consume a large amount of memory.\n",
      "  \"Converting sparse IndexedSlices to a dense Tensor of unknown shape. \"\n"
     ]
    },
    {
     "name": "stdout",
     "output_type": "stream",
     "text": [
      "Epoch 1/10\n"
     ]
    },
    {
     "ename": "InvalidArgumentError",
     "evalue": " indices[1,3] = -1 is not in [0, 439056)\n\t [[node embedding_1/embedding_lookup (defined at /opt/anaconda3/envs/coccoc_word_tokenize/lib/python3.6/site-packages/tensorflow_core/python/framework/ops.py:1751) ]] [Op:__inference_keras_scratch_graph_2385]\n\nFunction call stack:\nkeras_scratch_graph\n",
     "output_type": "error",
     "traceback": [
      "\u001b[0;31m---------------------------------------------------------------------------\u001b[0m",
      "\u001b[0;31mInvalidArgumentError\u001b[0m                      Traceback (most recent call last)",
      "\u001b[0;32m<ipython-input-30-0ee58cb0b9d1>\u001b[0m in \u001b[0;36m<module>\u001b[0;34m\u001b[0m\n\u001b[1;32m      6\u001b[0m \u001b[0mcallbacks\u001b[0m \u001b[0;34m=\u001b[0m \u001b[0;34m[\u001b[0m\u001b[0mEarlyStopping\u001b[0m\u001b[0;34m(\u001b[0m\u001b[0mmonitor\u001b[0m\u001b[0;34m=\u001b[0m\u001b[0;34m'val_loss'\u001b[0m\u001b[0;34m)\u001b[0m\u001b[0;34m]\u001b[0m\u001b[0;34m\u001b[0m\u001b[0;34m\u001b[0m\u001b[0m\n\u001b[1;32m      7\u001b[0m model.fit(matrix_vec_train, y_train, batch_size=10, epochs=10, verbose=1,\n\u001b[0;32m----> 8\u001b[0;31m          callbacks=callbacks) \n\u001b[0m",
      "\u001b[0;32m/opt/anaconda3/envs/coccoc_word_tokenize/lib/python3.6/site-packages/keras/engine/training.py\u001b[0m in \u001b[0;36mfit\u001b[0;34m(self, x, y, batch_size, epochs, verbose, callbacks, validation_split, validation_data, shuffle, class_weight, sample_weight, initial_epoch, steps_per_epoch, validation_steps, validation_freq, max_queue_size, workers, use_multiprocessing, **kwargs)\u001b[0m\n\u001b[1;32m   1237\u001b[0m                                         \u001b[0msteps_per_epoch\u001b[0m\u001b[0;34m=\u001b[0m\u001b[0msteps_per_epoch\u001b[0m\u001b[0;34m,\u001b[0m\u001b[0;34m\u001b[0m\u001b[0;34m\u001b[0m\u001b[0m\n\u001b[1;32m   1238\u001b[0m                                         \u001b[0mvalidation_steps\u001b[0m\u001b[0;34m=\u001b[0m\u001b[0mvalidation_steps\u001b[0m\u001b[0;34m,\u001b[0m\u001b[0;34m\u001b[0m\u001b[0;34m\u001b[0m\u001b[0m\n\u001b[0;32m-> 1239\u001b[0;31m                                         validation_freq=validation_freq)\n\u001b[0m\u001b[1;32m   1240\u001b[0m \u001b[0;34m\u001b[0m\u001b[0m\n\u001b[1;32m   1241\u001b[0m     def evaluate(self,\n",
      "\u001b[0;32m/opt/anaconda3/envs/coccoc_word_tokenize/lib/python3.6/site-packages/keras/engine/training_arrays.py\u001b[0m in \u001b[0;36mfit_loop\u001b[0;34m(model, fit_function, fit_inputs, out_labels, batch_size, epochs, verbose, callbacks, val_function, val_inputs, shuffle, initial_epoch, steps_per_epoch, validation_steps, validation_freq)\u001b[0m\n\u001b[1;32m    194\u001b[0m                     \u001b[0mins_batch\u001b[0m\u001b[0;34m[\u001b[0m\u001b[0mi\u001b[0m\u001b[0;34m]\u001b[0m \u001b[0;34m=\u001b[0m \u001b[0mins_batch\u001b[0m\u001b[0;34m[\u001b[0m\u001b[0mi\u001b[0m\u001b[0;34m]\u001b[0m\u001b[0;34m.\u001b[0m\u001b[0mtoarray\u001b[0m\u001b[0;34m(\u001b[0m\u001b[0;34m)\u001b[0m\u001b[0;34m\u001b[0m\u001b[0;34m\u001b[0m\u001b[0m\n\u001b[1;32m    195\u001b[0m \u001b[0;34m\u001b[0m\u001b[0m\n\u001b[0;32m--> 196\u001b[0;31m                 \u001b[0mouts\u001b[0m \u001b[0;34m=\u001b[0m \u001b[0mfit_function\u001b[0m\u001b[0;34m(\u001b[0m\u001b[0mins_batch\u001b[0m\u001b[0;34m)\u001b[0m\u001b[0;34m\u001b[0m\u001b[0;34m\u001b[0m\u001b[0m\n\u001b[0m\u001b[1;32m    197\u001b[0m                 \u001b[0mouts\u001b[0m \u001b[0;34m=\u001b[0m \u001b[0mto_list\u001b[0m\u001b[0;34m(\u001b[0m\u001b[0mouts\u001b[0m\u001b[0;34m)\u001b[0m\u001b[0;34m\u001b[0m\u001b[0;34m\u001b[0m\u001b[0m\n\u001b[1;32m    198\u001b[0m                 \u001b[0;32mfor\u001b[0m \u001b[0ml\u001b[0m\u001b[0;34m,\u001b[0m \u001b[0mo\u001b[0m \u001b[0;32min\u001b[0m \u001b[0mzip\u001b[0m\u001b[0;34m(\u001b[0m\u001b[0mout_labels\u001b[0m\u001b[0;34m,\u001b[0m \u001b[0mouts\u001b[0m\u001b[0;34m)\u001b[0m\u001b[0;34m:\u001b[0m\u001b[0;34m\u001b[0m\u001b[0;34m\u001b[0m\u001b[0m\n",
      "\u001b[0;32m/opt/anaconda3/envs/coccoc_word_tokenize/lib/python3.6/site-packages/tensorflow_core/python/keras/backend.py\u001b[0m in \u001b[0;36m__call__\u001b[0;34m(self, inputs)\u001b[0m\n\u001b[1;32m   3738\u001b[0m         \u001b[0mvalue\u001b[0m \u001b[0;34m=\u001b[0m \u001b[0mmath_ops\u001b[0m\u001b[0;34m.\u001b[0m\u001b[0mcast\u001b[0m\u001b[0;34m(\u001b[0m\u001b[0mvalue\u001b[0m\u001b[0;34m,\u001b[0m \u001b[0mtensor\u001b[0m\u001b[0;34m.\u001b[0m\u001b[0mdtype\u001b[0m\u001b[0;34m)\u001b[0m\u001b[0;34m\u001b[0m\u001b[0;34m\u001b[0m\u001b[0m\n\u001b[1;32m   3739\u001b[0m       \u001b[0mconverted_inputs\u001b[0m\u001b[0;34m.\u001b[0m\u001b[0mappend\u001b[0m\u001b[0;34m(\u001b[0m\u001b[0mvalue\u001b[0m\u001b[0;34m)\u001b[0m\u001b[0;34m\u001b[0m\u001b[0;34m\u001b[0m\u001b[0m\n\u001b[0;32m-> 3740\u001b[0;31m     \u001b[0moutputs\u001b[0m \u001b[0;34m=\u001b[0m \u001b[0mself\u001b[0m\u001b[0;34m.\u001b[0m\u001b[0m_graph_fn\u001b[0m\u001b[0;34m(\u001b[0m\u001b[0;34m*\u001b[0m\u001b[0mconverted_inputs\u001b[0m\u001b[0;34m)\u001b[0m\u001b[0;34m\u001b[0m\u001b[0;34m\u001b[0m\u001b[0m\n\u001b[0m\u001b[1;32m   3741\u001b[0m \u001b[0;34m\u001b[0m\u001b[0m\n\u001b[1;32m   3742\u001b[0m     \u001b[0;31m# EagerTensor.numpy() will often make a copy to ensure memory safety.\u001b[0m\u001b[0;34m\u001b[0m\u001b[0;34m\u001b[0m\u001b[0;34m\u001b[0m\u001b[0m\n",
      "\u001b[0;32m/opt/anaconda3/envs/coccoc_word_tokenize/lib/python3.6/site-packages/tensorflow_core/python/eager/function.py\u001b[0m in \u001b[0;36m__call__\u001b[0;34m(self, *args, **kwargs)\u001b[0m\n\u001b[1;32m   1079\u001b[0m       \u001b[0mTypeError\u001b[0m\u001b[0;34m:\u001b[0m \u001b[0mFor\u001b[0m \u001b[0minvalid\u001b[0m \u001b[0mpositional\u001b[0m\u001b[0;34m/\u001b[0m\u001b[0mkeyword\u001b[0m \u001b[0margument\u001b[0m \u001b[0mcombinations\u001b[0m\u001b[0;34m.\u001b[0m\u001b[0;34m\u001b[0m\u001b[0;34m\u001b[0m\u001b[0m\n\u001b[1;32m   1080\u001b[0m     \"\"\"\n\u001b[0;32m-> 1081\u001b[0;31m     \u001b[0;32mreturn\u001b[0m \u001b[0mself\u001b[0m\u001b[0;34m.\u001b[0m\u001b[0m_call_impl\u001b[0m\u001b[0;34m(\u001b[0m\u001b[0margs\u001b[0m\u001b[0;34m,\u001b[0m \u001b[0mkwargs\u001b[0m\u001b[0;34m)\u001b[0m\u001b[0;34m\u001b[0m\u001b[0;34m\u001b[0m\u001b[0m\n\u001b[0m\u001b[1;32m   1082\u001b[0m \u001b[0;34m\u001b[0m\u001b[0m\n\u001b[1;32m   1083\u001b[0m   \u001b[0;32mdef\u001b[0m \u001b[0m_call_impl\u001b[0m\u001b[0;34m(\u001b[0m\u001b[0mself\u001b[0m\u001b[0;34m,\u001b[0m \u001b[0margs\u001b[0m\u001b[0;34m,\u001b[0m \u001b[0mkwargs\u001b[0m\u001b[0;34m,\u001b[0m \u001b[0mcancellation_manager\u001b[0m\u001b[0;34m=\u001b[0m\u001b[0;32mNone\u001b[0m\u001b[0;34m)\u001b[0m\u001b[0;34m:\u001b[0m\u001b[0;34m\u001b[0m\u001b[0;34m\u001b[0m\u001b[0m\n",
      "\u001b[0;32m/opt/anaconda3/envs/coccoc_word_tokenize/lib/python3.6/site-packages/tensorflow_core/python/eager/function.py\u001b[0m in \u001b[0;36m_call_impl\u001b[0;34m(self, args, kwargs, cancellation_manager)\u001b[0m\n\u001b[1;32m   1119\u001b[0m       raise TypeError(\"Keyword arguments {} unknown. Expected {}.\".format(\n\u001b[1;32m   1120\u001b[0m           list(kwargs.keys()), list(self._arg_keywords)))\n\u001b[0;32m-> 1121\u001b[0;31m     \u001b[0;32mreturn\u001b[0m \u001b[0mself\u001b[0m\u001b[0;34m.\u001b[0m\u001b[0m_call_flat\u001b[0m\u001b[0;34m(\u001b[0m\u001b[0margs\u001b[0m\u001b[0;34m,\u001b[0m \u001b[0mself\u001b[0m\u001b[0;34m.\u001b[0m\u001b[0mcaptured_inputs\u001b[0m\u001b[0;34m,\u001b[0m \u001b[0mcancellation_manager\u001b[0m\u001b[0;34m)\u001b[0m\u001b[0;34m\u001b[0m\u001b[0;34m\u001b[0m\u001b[0m\n\u001b[0m\u001b[1;32m   1122\u001b[0m \u001b[0;34m\u001b[0m\u001b[0m\n\u001b[1;32m   1123\u001b[0m   \u001b[0;32mdef\u001b[0m \u001b[0m_filtered_call\u001b[0m\u001b[0;34m(\u001b[0m\u001b[0mself\u001b[0m\u001b[0;34m,\u001b[0m \u001b[0margs\u001b[0m\u001b[0;34m,\u001b[0m \u001b[0mkwargs\u001b[0m\u001b[0;34m)\u001b[0m\u001b[0;34m:\u001b[0m\u001b[0;34m\u001b[0m\u001b[0;34m\u001b[0m\u001b[0m\n",
      "\u001b[0;32m/opt/anaconda3/envs/coccoc_word_tokenize/lib/python3.6/site-packages/tensorflow_core/python/eager/function.py\u001b[0m in \u001b[0;36m_call_flat\u001b[0;34m(self, args, captured_inputs, cancellation_manager)\u001b[0m\n\u001b[1;32m   1222\u001b[0m     \u001b[0;32mif\u001b[0m \u001b[0mexecuting_eagerly\u001b[0m\u001b[0;34m:\u001b[0m\u001b[0;34m\u001b[0m\u001b[0;34m\u001b[0m\u001b[0m\n\u001b[1;32m   1223\u001b[0m       flat_outputs = forward_function.call(\n\u001b[0;32m-> 1224\u001b[0;31m           ctx, args, cancellation_manager=cancellation_manager)\n\u001b[0m\u001b[1;32m   1225\u001b[0m     \u001b[0;32melse\u001b[0m\u001b[0;34m:\u001b[0m\u001b[0;34m\u001b[0m\u001b[0;34m\u001b[0m\u001b[0m\n\u001b[1;32m   1226\u001b[0m       \u001b[0mgradient_name\u001b[0m \u001b[0;34m=\u001b[0m \u001b[0mself\u001b[0m\u001b[0;34m.\u001b[0m\u001b[0m_delayed_rewrite_functions\u001b[0m\u001b[0;34m.\u001b[0m\u001b[0mregister\u001b[0m\u001b[0;34m(\u001b[0m\u001b[0;34m)\u001b[0m\u001b[0;34m\u001b[0m\u001b[0;34m\u001b[0m\u001b[0m\n",
      "\u001b[0;32m/opt/anaconda3/envs/coccoc_word_tokenize/lib/python3.6/site-packages/tensorflow_core/python/eager/function.py\u001b[0m in \u001b[0;36mcall\u001b[0;34m(self, ctx, args, cancellation_manager)\u001b[0m\n\u001b[1;32m    509\u001b[0m               \u001b[0minputs\u001b[0m\u001b[0;34m=\u001b[0m\u001b[0margs\u001b[0m\u001b[0;34m,\u001b[0m\u001b[0;34m\u001b[0m\u001b[0;34m\u001b[0m\u001b[0m\n\u001b[1;32m    510\u001b[0m               \u001b[0mattrs\u001b[0m\u001b[0;34m=\u001b[0m\u001b[0;34m(\u001b[0m\u001b[0;34m\"executor_type\"\u001b[0m\u001b[0;34m,\u001b[0m \u001b[0mexecutor_type\u001b[0m\u001b[0;34m,\u001b[0m \u001b[0;34m\"config_proto\"\u001b[0m\u001b[0;34m,\u001b[0m \u001b[0mconfig\u001b[0m\u001b[0;34m)\u001b[0m\u001b[0;34m,\u001b[0m\u001b[0;34m\u001b[0m\u001b[0;34m\u001b[0m\u001b[0m\n\u001b[0;32m--> 511\u001b[0;31m               ctx=ctx)\n\u001b[0m\u001b[1;32m    512\u001b[0m         \u001b[0;32melse\u001b[0m\u001b[0;34m:\u001b[0m\u001b[0;34m\u001b[0m\u001b[0;34m\u001b[0m\u001b[0m\n\u001b[1;32m    513\u001b[0m           outputs = execute.execute_with_cancellation(\n",
      "\u001b[0;32m/opt/anaconda3/envs/coccoc_word_tokenize/lib/python3.6/site-packages/tensorflow_core/python/eager/execute.py\u001b[0m in \u001b[0;36mquick_execute\u001b[0;34m(op_name, num_outputs, inputs, attrs, ctx, name)\u001b[0m\n\u001b[1;32m     65\u001b[0m     \u001b[0;32melse\u001b[0m\u001b[0;34m:\u001b[0m\u001b[0;34m\u001b[0m\u001b[0;34m\u001b[0m\u001b[0m\n\u001b[1;32m     66\u001b[0m       \u001b[0mmessage\u001b[0m \u001b[0;34m=\u001b[0m \u001b[0me\u001b[0m\u001b[0;34m.\u001b[0m\u001b[0mmessage\u001b[0m\u001b[0;34m\u001b[0m\u001b[0;34m\u001b[0m\u001b[0m\n\u001b[0;32m---> 67\u001b[0;31m     \u001b[0msix\u001b[0m\u001b[0;34m.\u001b[0m\u001b[0mraise_from\u001b[0m\u001b[0;34m(\u001b[0m\u001b[0mcore\u001b[0m\u001b[0;34m.\u001b[0m\u001b[0m_status_to_exception\u001b[0m\u001b[0;34m(\u001b[0m\u001b[0me\u001b[0m\u001b[0;34m.\u001b[0m\u001b[0mcode\u001b[0m\u001b[0;34m,\u001b[0m \u001b[0mmessage\u001b[0m\u001b[0;34m)\u001b[0m\u001b[0;34m,\u001b[0m \u001b[0;32mNone\u001b[0m\u001b[0;34m)\u001b[0m\u001b[0;34m\u001b[0m\u001b[0;34m\u001b[0m\u001b[0m\n\u001b[0m\u001b[1;32m     68\u001b[0m   \u001b[0;32mexcept\u001b[0m \u001b[0mTypeError\u001b[0m \u001b[0;32mas\u001b[0m \u001b[0me\u001b[0m\u001b[0;34m:\u001b[0m\u001b[0;34m\u001b[0m\u001b[0;34m\u001b[0m\u001b[0m\n\u001b[1;32m     69\u001b[0m     keras_symbolic_tensors = [\n",
      "\u001b[0;32m/opt/anaconda3/envs/coccoc_word_tokenize/lib/python3.6/site-packages/six.py\u001b[0m in \u001b[0;36mraise_from\u001b[0;34m(value, from_value)\u001b[0m\n",
      "\u001b[0;31mInvalidArgumentError\u001b[0m:  indices[1,3] = -1 is not in [0, 439056)\n\t [[node embedding_1/embedding_lookup (defined at /opt/anaconda3/envs/coccoc_word_tokenize/lib/python3.6/site-packages/tensorflow_core/python/framework/ops.py:1751) ]] [Op:__inference_keras_scratch_graph_2385]\n\nFunction call stack:\nkeras_scratch_graph\n"
     ]
    }
   ],
   "source": [
    "adam = Adam(lr=1e-3)\n",
    "\n",
    "model.compile(loss='categorical_crossentropy',\n",
    "              optimizer=adam,\n",
    "              metrics=['acc'])\n",
    "callbacks = [EarlyStopping(monitor='val_loss')]\n",
    "model.fit(matrix_vec_train, y_train, batch_size=10, epochs=10, verbose=1, validation_data=(matrix_vec_test, y_test),\n",
    "         callbacks=callbacks) "
   ]
  },
  {
   "cell_type": "code",
   "execution_count": 23,
   "metadata": {},
   "outputs": [
    {
     "data": {
      "text/plain": [
       "(1000, 2)"
      ]
     },
     "execution_count": 23,
     "metadata": {},
     "output_type": "execute_result"
    }
   ],
   "source": [
    "y_train.shape"
   ]
  },
  {
   "cell_type": "code",
   "execution_count": null,
   "metadata": {
    "scrolled": true
   },
   "outputs": [],
   "source": [
    "# Define CNN architecture\n",
    "# del model\n",
    "embedding_dim = 100\n",
    "\n",
    "model = Sequential()\n",
    "model.add(layers.Embedding(len(word2vec_model.vocab),\n",
    "                           word2vec_model.vectors.shape[1],\n",
    "                           weights=[word2vec_model.vectors],\n",
    "                           input_length=maxlen))\n",
    "model.add(layers.Conv2D(100, kernel_size = (3, 300), padding='valid', data_format=\"channels_last\", input_shape = (1000, 30000), activation='relu',kernel_regularizer=regularizers.l2(0.01)))\n",
    "model.add(layers.GlobalMaxPooling1D())\n",
    "model.add(layers.Dense(10, activation='relu'))\n",
    "model.add(layers.Dense(1, activation='sigmoid'))\n",
    "model.compile(optimizer='adam',\n",
    "              loss='binary_crossentropy',\n",
    "              metrics=['accuracy'])\n",
    "print(model.summary())\n",
    "\n"
   ]
  },
  {
   "cell_type": "code",
   "execution_count": null,
   "metadata": {},
   "outputs": [],
   "source": [
    "# Fit model\n",
    "history = model.fit(matrix_vec_train, y_train,\n",
    "                    epochs=5,\n",
    "                    verbose=True,\n",
    "                    validation_data=(matrix_vec_test, y_test),\n",
    "                    batch_size=64)\n",
    "loss, accuracy = model.evaluate(matrix_vec_train, y_train, verbose=True)\n",
    "print(\"Training Accuracy: {:.4f}\".format(accuracy))\n",
    "loss, accuracy = model.evaluate(matrix_vec_test, y_test, verbose=False)\n",
    "print(\"Testing Accuracy:  {:.4f}\".format(accuracy))"
   ]
  },
  {
   "cell_type": "code",
   "execution_count": null,
   "metadata": {},
   "outputs": [],
   "source": []
  }
 ],
 "metadata": {
  "kernelspec": {
   "display_name": "Python 3",
   "language": "python",
   "name": "python3"
  },
  "language_info": {
   "codemirror_mode": {
    "name": "ipython",
    "version": 3
   },
   "file_extension": ".py",
   "mimetype": "text/x-python",
   "name": "python",
   "nbconvert_exporter": "python",
   "pygments_lexer": "ipython3",
   "version": "3.6.9"
  }
 },
 "nbformat": 4,
 "nbformat_minor": 2
}
